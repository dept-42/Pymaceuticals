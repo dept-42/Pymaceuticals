{
 "cells": [
  {
   "cell_type": "code",
   "execution_count": 7,
   "id": "84ba3141-4515-4037-b553-9a240cb62c13",
   "metadata": {},
   "outputs": [],
   "source": [
    "import pandas as pd\n",
    "import numpy as np"
   ]
  },
  {
   "cell_type": "markdown",
   "id": "ebdf96fc-c90f-48ee-a8cf-f3fd44adcd1e",
   "metadata": {},
   "source": [
    "# 1-D transformations"
   ]
  },
  {
   "attachments": {},
   "cell_type": "markdown",
   "id": "abd09c59-53d3-4aab-942a-e678cf53bbc7",
   "metadata": {
    "jp-MarkdownHeadingCollapsed": true
   },
   "source": [
    "## Create a python list from a tuple\n",
    "\n",
    "\n",
    "aList = ('a', 'b' , 'c', 'd','e','f','g','h','i', 'j')\n",
    "aList = list(aList)\n",
    "aList"
   ]
  },
  {
   "attachments": {},
   "cell_type": "markdown",
   "id": "392cb90b-39ae-4096-bf6f-a8eb3880c556",
   "metadata": {},
   "source": [
    "## Change a python list to a numpy array\n",
    "\n",
    "list_to_nparray = np.array(aList)\n",
    "type(list_to_nparray)"
   ]
  },
  {
   "cell_type": "code",
   "execution_count": 81,
   "id": "92f723c0-7157-4fac-815e-e37d4e2cb8cf",
   "metadata": {},
   "outputs": [
    {
     "data": {
      "text/plain": [
       "array(['a', 'b', 'c', 'd', 'e', 'f', 'g', 'h', 'i', 'j'], dtype='<U1')"
      ]
     },
     "execution_count": 81,
     "metadata": {},
     "output_type": "execute_result"
    }
   ],
   "source": [
    "list_to_nparray"
   ]
  },
  {
   "attachments": {},
   "cell_type": "markdown",
   "id": "1f5bad79-1454-4e0f-b663-523bd78fc0aa",
   "metadata": {
    "jp-MarkdownHeadingCollapsed": true
   },
   "source": [
    "## Change a pythion list to a pandas series\n",
    "\n",
    "list_to_series = pd.Series(aList)\n",
    "type(list_to_series)"
   ]
  },
  {
   "cell_type": "code",
   "execution_count": 86,
   "id": "3f6da829-41f3-45f3-976e-61586625f00f",
   "metadata": {},
   "outputs": [
    {
     "data": {
      "text/plain": [
       "0    a\n",
       "1    b\n",
       "2    c\n",
       "3    d\n",
       "4    e\n",
       "5    f\n",
       "6    g\n",
       "7    h\n",
       "8    i\n",
       "9    j\n",
       "dtype: object"
      ]
     },
     "execution_count": 86,
     "metadata": {},
     "output_type": "execute_result"
    }
   ],
   "source": [
    "list_to_series"
   ]
  },
  {
   "cell_type": "markdown",
   "id": "5b3e7c1c-39e4-450f-a05f-0dd9e61f1180",
   "metadata": {},
   "source": [
    "## Change a pandas series to a python list"
   ]
  },
  {
   "cell_type": "code",
   "execution_count": 42,
   "id": "48a97d1f-241d-4ae1-8c3f-bd7414eaf10a",
   "metadata": {},
   "outputs": [
    {
     "data": {
      "text/plain": [
       "0    a\n",
       "1    b\n",
       "2    c\n",
       "3    d\n",
       "4    e\n",
       "5    f\n",
       "6    g\n",
       "7    h\n",
       "8    i\n",
       "9    j\n",
       "dtype: object"
      ]
     },
     "execution_count": 42,
     "metadata": {},
     "output_type": "execute_result"
    }
   ],
   "source": [
    "aSeries = pd.Series(aList)\n",
    "aSeries"
   ]
  },
  {
   "cell_type": "code",
   "execution_count": 66,
   "id": "4f8e591c-54e7-417e-bac3-acd5eb3bc611",
   "metadata": {},
   "outputs": [
    {
     "data": {
      "text/plain": [
       "list"
      ]
     },
     "execution_count": 66,
     "metadata": {},
     "output_type": "execute_result"
    }
   ],
   "source": [
    "array_back_to_list = aNParray.tolist()\n",
    "type(array_back_to_list)"
   ]
  },
  {
   "cell_type": "code",
   "execution_count": 68,
   "id": "a689a61c-a903-4307-a0d9-9c87db8a55d9",
   "metadata": {},
   "outputs": [
    {
     "data": {
      "text/plain": [
       "['a', 'b', 'c', 'd', 'e', 'f', 'g', 'h', 'i', 'j']"
      ]
     },
     "execution_count": 68,
     "metadata": {},
     "output_type": "execute_result"
    }
   ],
   "source": [
    "array_back_to_list"
   ]
  },
  {
   "attachments": {},
   "cell_type": "markdown",
   "id": "e69727f2-ce96-4899-b6ed-a182c9d87e64",
   "metadata": {},
   "source": [
    "## Change nparray to python list\n",
    "\n",
    "np_array_to_list  = list_to_nparray.tolist()\n",
    "type(np_array_to_list)"
   ]
  },
  {
   "cell_type": "code",
   "execution_count": 103,
   "id": "1110654d-627d-475e-bd58-62fdb3bb5385",
   "metadata": {},
   "outputs": [
    {
     "data": {
      "text/plain": [
       "['a', 'b', 'c', 'd', 'e', 'f', 'g', 'h', 'i', 'j']"
      ]
     },
     "execution_count": 103,
     "metadata": {},
     "output_type": "execute_result"
    }
   ],
   "source": [
    "np_array_to_list"
   ]
  },
  {
   "attachments": {},
   "cell_type": "markdown",
   "id": "873f657a-d75a-4aca-b7be-50a1369498f6",
   "metadata": {},
   "source": [
    "## Change nparray to series\n",
    "\n",
    "np_array_to_series = pd.Series(list_to_nparray)\n",
    "\n",
    "type(np_array_to_series)"
   ]
  },
  {
   "cell_type": "code",
   "execution_count": 121,
   "id": "63c3c9b8-9b25-4094-9f1a-33eb5739405e",
   "metadata": {},
   "outputs": [
    {
     "data": {
      "text/plain": [
       "0    a\n",
       "1    b\n",
       "2    c\n",
       "3    d\n",
       "4    e\n",
       "5    f\n",
       "6    g\n",
       "7    h\n",
       "8    i\n",
       "9    j\n",
       "dtype: object"
      ]
     },
     "execution_count": 121,
     "metadata": {},
     "output_type": "execute_result"
    }
   ],
   "source": [
    "np_array_to_series"
   ]
  },
  {
   "attachments": {},
   "cell_type": "markdown",
   "id": "13202d4d-b938-460b-8e79-9d3969ace024",
   "metadata": {},
   "source": [
    "## Change series to nparray\n",
    "\n",
    "series_to_nparray = np_array_to_series.to_numpy()"
   ]
  },
  {
   "cell_type": "code",
   "execution_count": 126,
   "id": "468a01a2-3cdd-4733-8cbf-e5ad31484595",
   "metadata": {},
   "outputs": [
    {
     "data": {
      "text/plain": [
       "numpy.ndarray"
      ]
     },
     "execution_count": 126,
     "metadata": {},
     "output_type": "execute_result"
    }
   ],
   "source": [
    "type(series_to_nparray)"
   ]
  },
  {
   "cell_type": "code",
   "execution_count": 171,
   "id": "cea05560-db5d-4b50-956c-25944f2c3501",
   "metadata": {
    "scrolled": true
   },
   "outputs": [
    {
     "data": {
      "text/plain": [
       "array(['a', 'b', 'c', 'd', 'e', 'f', 'g', 'h', 'i', 'j'], dtype=object)"
      ]
     },
     "execution_count": 171,
     "metadata": {},
     "output_type": "execute_result"
    }
   ],
   "source": [
    "series_to_nparray"
   ]
  },
  {
   "cell_type": "markdown",
   "id": "5992d291-9e85-4201-9f57-2dbe7669bd52",
   "metadata": {},
   "source": [
    "# 2-D transformations"
   ]
  },
  {
   "cell_type": "markdown",
   "id": "407bc5a6-7b91-422f-8498-6205781e2188",
   "metadata": {},
   "source": [
    "# Change python list-of-lists to numpy 2-D array"
   ]
  },
  {
   "cell_type": "code",
   "execution_count": 17,
   "id": "817aeced-cde9-41ab-bc13-8308aa99b51c",
   "metadata": {
    "jp-MarkdownHeadingCollapsed": true
   },
   "outputs": [],
   "source": [
    "list_of_tuples = [('a','b','c'), ('l','m','n'),('x','y','z')]"
   ]
  },
  {
   "cell_type": "code",
   "execution_count": 21,
   "id": "b6e57c50-6ddc-48ff-b70a-040ef4d70a63",
   "metadata": {},
   "outputs": [
    {
     "data": {
      "text/plain": [
       "list"
      ]
     },
     "execution_count": 21,
     "metadata": {},
     "output_type": "execute_result"
    }
   ],
   "source": [
    "type(list_of_tuples)"
   ]
  },
  {
   "cell_type": "code",
   "execution_count": 23,
   "id": "24ed7b5b-6d6f-4269-97a9-0754670989a0",
   "metadata": {
    "jp-MarkdownHeadingCollapsed": true
   },
   "outputs": [],
   "source": [
    "list_of_lists = list(map(list, list_of_tuples))"
   ]
  },
  {
   "cell_type": "code",
   "execution_count": 25,
   "id": "4671f6ae-8e9f-4d34-9038-2fe83b9b80f7",
   "metadata": {},
   "outputs": [
    {
     "data": {
      "text/plain": [
       "list"
      ]
     },
     "execution_count": 25,
     "metadata": {},
     "output_type": "execute_result"
    }
   ],
   "source": [
    "type(list_of_lists)"
   ]
  },
  {
   "cell_type": "code",
   "execution_count": 27,
   "id": "22067588-a473-4b63-8235-38f4e78c7c18",
   "metadata": {},
   "outputs": [],
   "source": [
    "list_of_lists = [list(t) for t in list_of_tuples]"
   ]
  },
  {
   "cell_type": "code",
   "execution_count": 29,
   "id": "dc10e676-ba43-4f5a-9c99-7bc88434a27a",
   "metadata": {},
   "outputs": [
    {
     "data": {
      "text/plain": [
       "list"
      ]
     },
     "execution_count": 29,
     "metadata": {},
     "output_type": "execute_result"
    }
   ],
   "source": [
    "type(list_of_lists)"
   ]
  },
  {
   "cell_type": "code",
   "execution_count": 31,
   "id": "95c61145-67db-4209-b6e8-b9a5b485a2ed",
   "metadata": {},
   "outputs": [],
   "source": [
    "list_of_lists = [list(t) for i, t in enumerate(list_of_tuples)]"
   ]
  },
  {
   "cell_type": "code",
   "execution_count": 33,
   "id": "401620a0-0230-4f20-9dfc-2be042a655f0",
   "metadata": {},
   "outputs": [
    {
     "data": {
      "text/plain": [
       "list"
      ]
     },
     "execution_count": 33,
     "metadata": {},
     "output_type": "execute_result"
    }
   ],
   "source": [
    "type(list_of_lists)"
   ]
  },
  {
   "cell_type": "code",
   "execution_count": 35,
   "id": "80a3c0eb-c644-4c39-8376-6ecedfa5d4f8",
   "metadata": {},
   "outputs": [],
   "source": [
    "list_of_lists = []\n",
    "for tup in list_of_tuples:\n",
    "    list_of_lists.append(list(tup))"
   ]
  },
  {
   "cell_type": "code",
   "execution_count": 37,
   "id": "57461271-521a-4338-99fe-fb1d93b55e25",
   "metadata": {},
   "outputs": [
    {
     "data": {
      "text/plain": [
       "list"
      ]
     },
     "execution_count": 37,
     "metadata": {},
     "output_type": "execute_result"
    }
   ],
   "source": [
    "type(list_of_lists)"
   ]
  },
  {
   "cell_type": "code",
   "execution_count": 39,
   "id": "dc1fa5eb-957f-4829-a4e3-f5580134afa1",
   "metadata": {},
   "outputs": [
    {
     "data": {
      "text/plain": [
       "[['a', 'b', 'c'], ['l', 'm', 'n'], ['x', 'y', 'z']]"
      ]
     },
     "execution_count": 39,
     "metadata": {},
     "output_type": "execute_result"
    }
   ],
   "source": [
    "list_of_lists"
   ]
  },
  {
   "cell_type": "code",
   "execution_count": 45,
   "id": "e51cf5ce-ef3f-49fe-b0ab-143df319563c",
   "metadata": {},
   "outputs": [],
   "source": [
    "l_o_l_to_nparray =  np.array([list_of_lists])"
   ]
  },
  {
   "cell_type": "code",
   "execution_count": 47,
   "id": "d2b97319-b881-4dac-a0f1-bc4e4d2cbcba",
   "metadata": {},
   "outputs": [
    {
     "data": {
      "text/plain": [
       "numpy.ndarray"
      ]
     },
     "execution_count": 47,
     "metadata": {},
     "output_type": "execute_result"
    }
   ],
   "source": [
    "type(l_o_l_to_nparray)"
   ]
  },
  {
   "cell_type": "code",
   "execution_count": 49,
   "id": "7e11508a-d73c-4504-85e4-c6f19e3fd097",
   "metadata": {},
   "outputs": [
    {
     "data": {
      "text/plain": [
       "array([[['a', 'b', 'c'],\n",
       "        ['l', 'm', 'n'],\n",
       "        ['x', 'y', 'z']]], dtype='<U1')"
      ]
     },
     "execution_count": 49,
     "metadata": {},
     "output_type": "execute_result"
    }
   ],
   "source": [
    "l_o_l_to_nparray"
   ]
  },
  {
   "cell_type": "markdown",
   "id": "fcc6dc8d-c923-43f7-8f3c-4395c7c0dcfe",
   "metadata": {},
   "source": [
    "# Change python list-of-lists to pandas DataFrame"
   ]
  },
  {
   "cell_type": "code",
   "execution_count": 68,
   "id": "27b017df-9b61-4e39-bb05-81bd5741c8ca",
   "metadata": {},
   "outputs": [],
   "source": [
    "l_o_l__to_df = pd.DataFrame(list_of_lists, columns = ['ABC', 'LMN', 'XYZ'])"
   ]
  },
  {
   "cell_type": "code",
   "execution_count": 70,
   "id": "654f1e9b-8cfd-4883-8c11-b299033f0492",
   "metadata": {},
   "outputs": [
    {
     "data": {
      "text/plain": [
       "pandas.core.frame.DataFrame"
      ]
     },
     "execution_count": 70,
     "metadata": {},
     "output_type": "execute_result"
    }
   ],
   "source": [
    "type(l_o_l__to_df)"
   ]
  },
  {
   "cell_type": "code",
   "execution_count": 72,
   "id": "4f563b1f-967f-4ef6-9b48-69904808843a",
   "metadata": {},
   "outputs": [
    {
     "data": {
      "text/html": [
       "<div>\n",
       "<style scoped>\n",
       "    .dataframe tbody tr th:only-of-type {\n",
       "        vertical-align: middle;\n",
       "    }\n",
       "\n",
       "    .dataframe tbody tr th {\n",
       "        vertical-align: top;\n",
       "    }\n",
       "\n",
       "    .dataframe thead th {\n",
       "        text-align: right;\n",
       "    }\n",
       "</style>\n",
       "<table border=\"1\" class=\"dataframe\">\n",
       "  <thead>\n",
       "    <tr style=\"text-align: right;\">\n",
       "      <th></th>\n",
       "      <th>ABC</th>\n",
       "      <th>LMN</th>\n",
       "      <th>XYZ</th>\n",
       "    </tr>\n",
       "  </thead>\n",
       "  <tbody>\n",
       "    <tr>\n",
       "      <th>0</th>\n",
       "      <td>a</td>\n",
       "      <td>b</td>\n",
       "      <td>c</td>\n",
       "    </tr>\n",
       "    <tr>\n",
       "      <th>1</th>\n",
       "      <td>l</td>\n",
       "      <td>m</td>\n",
       "      <td>n</td>\n",
       "    </tr>\n",
       "    <tr>\n",
       "      <th>2</th>\n",
       "      <td>x</td>\n",
       "      <td>y</td>\n",
       "      <td>z</td>\n",
       "    </tr>\n",
       "  </tbody>\n",
       "</table>\n",
       "</div>"
      ],
      "text/plain": [
       "  ABC LMN XYZ\n",
       "0   a   b   c\n",
       "1   l   m   n\n",
       "2   x   y   z"
      ]
     },
     "execution_count": 72,
     "metadata": {},
     "output_type": "execute_result"
    }
   ],
   "source": [
    "l_o_l__to_df"
   ]
  },
  {
   "attachments": {},
   "cell_type": "markdown",
   "id": "9dd39027-afb8-46e8-bdea-4c89b2fadd98",
   "metadata": {},
   "source": [
    "# Change to pandas DataFrame to python list-of-lists\n",
    "\n"
   ]
  },
  {
   "cell_type": "code",
   "execution_count": 79,
   "id": "1abe0538-c02d-461b-8528-665c87565eea",
   "metadata": {},
   "outputs": [],
   "source": [
    "back_to_list_of_lists = l_o_l__to_df.to_records(index = False)"
   ]
  },
  {
   "cell_type": "code",
   "execution_count": 81,
   "id": "8185c729-e976-4862-90c0-f55fe651f590",
   "metadata": {},
   "outputs": [
    {
     "data": {
      "text/plain": [
       "numpy.recarray"
      ]
     },
     "execution_count": 81,
     "metadata": {},
     "output_type": "execute_result"
    }
   ],
   "source": [
    "type(back_to_list_of_lists)"
   ]
  },
  {
   "cell_type": "code",
   "execution_count": 83,
   "id": "48d9f24b-947f-4aab-a0ad-0664f531977a",
   "metadata": {},
   "outputs": [
    {
     "data": {
      "text/plain": [
       "rec.array([('a', 'b', 'c'), ('l', 'm', 'n'), ('x', 'y', 'z')],\n",
       "          dtype=[('ABC', 'O'), ('LMN', 'O'), ('XYZ', 'O')])"
      ]
     },
     "execution_count": 83,
     "metadata": {},
     "output_type": "execute_result"
    }
   ],
   "source": [
    "back_to_list_of_lists"
   ]
  },
  {
   "cell_type": "markdown",
   "id": "05dda26a-38b6-4203-9946-c9aa60a538ee",
   "metadata": {},
   "source": [
    "# Change numpy array to python list-of-lists"
   ]
  },
  {
   "cell_type": "code",
   "execution_count": 85,
   "id": "b3c2d38d-239c-4a1e-b233-f1cb049b5b37",
   "metadata": {},
   "outputs": [],
   "source": [
    "back_to_list_of_lists = l_o_l_to_nparray.tolist()"
   ]
  },
  {
   "cell_type": "markdown",
   "id": "07f45d63-e66d-4766-9629-f62b466e693d",
   "metadata": {},
   "source": [
    " "
   ]
  },
  {
   "cell_type": "code",
   "execution_count": 88,
   "id": "3cdf7f22-14b3-4741-b6f6-b07ef5901c10",
   "metadata": {},
   "outputs": [
    {
     "data": {
      "text/plain": [
       "list"
      ]
     },
     "execution_count": 88,
     "metadata": {},
     "output_type": "execute_result"
    }
   ],
   "source": [
    "type(back_to_list_of_lists)"
   ]
  },
  {
   "cell_type": "code",
   "execution_count": 90,
   "id": "45feb35d-f1f0-485d-97e7-e23a55d33b57",
   "metadata": {},
   "outputs": [
    {
     "data": {
      "text/plain": [
       "[[['a', 'b', 'c'], ['l', 'm', 'n'], ['x', 'y', 'z']]]"
      ]
     },
     "execution_count": 90,
     "metadata": {},
     "output_type": "execute_result"
    }
   ],
   "source": [
    "back_to_list_of_lists"
   ]
  },
  {
   "cell_type": "markdown",
   "id": "c1f67263-2183-4fec-9ec1-c45180986a79",
   "metadata": {},
   "source": [
    "# Change numpy array to dataframe"
   ]
  },
  {
   "cell_type": "code",
   "execution_count": 100,
   "id": "4b07c730-45c5-4995-a00f-2c81e741d9ac",
   "metadata": {
    "jp-MarkdownHeadingCollapsed": true
   },
   "outputs": [
    {
     "ename": "ValueError",
     "evalue": "Must pass 2-d input. shape=(1, 3, 3)",
     "output_type": "error",
     "traceback": [
      "\u001b[0;31m---------------------------------------------------------------------------\u001b[0m",
      "\u001b[0;31mValueError\u001b[0m                                Traceback (most recent call last)",
      "Cell \u001b[0;32mIn[100], line 1\u001b[0m\n\u001b[0;32m----> 1\u001b[0m numpy_array_to_dataframe \u001b[38;5;241m=\u001b[39m pd\u001b[38;5;241m.\u001b[39mDataFrame(l_o_l_to_nparray)\n",
      "File \u001b[0;32m/opt/anaconda3/lib/python3.12/site-packages/pandas/core/frame.py:827\u001b[0m, in \u001b[0;36mDataFrame.__init__\u001b[0;34m(self, data, index, columns, dtype, copy)\u001b[0m\n\u001b[1;32m    816\u001b[0m         mgr \u001b[38;5;241m=\u001b[39m dict_to_mgr(\n\u001b[1;32m    817\u001b[0m             \u001b[38;5;66;03m# error: Item \"ndarray\" of \"Union[ndarray, Series, Index]\" has no\u001b[39;00m\n\u001b[1;32m    818\u001b[0m             \u001b[38;5;66;03m# attribute \"name\"\u001b[39;00m\n\u001b[0;32m   (...)\u001b[0m\n\u001b[1;32m    824\u001b[0m             copy\u001b[38;5;241m=\u001b[39m_copy,\n\u001b[1;32m    825\u001b[0m         )\n\u001b[1;32m    826\u001b[0m     \u001b[38;5;28;01melse\u001b[39;00m:\n\u001b[0;32m--> 827\u001b[0m         mgr \u001b[38;5;241m=\u001b[39m ndarray_to_mgr(\n\u001b[1;32m    828\u001b[0m             data,\n\u001b[1;32m    829\u001b[0m             index,\n\u001b[1;32m    830\u001b[0m             columns,\n\u001b[1;32m    831\u001b[0m             dtype\u001b[38;5;241m=\u001b[39mdtype,\n\u001b[1;32m    832\u001b[0m             copy\u001b[38;5;241m=\u001b[39mcopy,\n\u001b[1;32m    833\u001b[0m             typ\u001b[38;5;241m=\u001b[39mmanager,\n\u001b[1;32m    834\u001b[0m         )\n\u001b[1;32m    836\u001b[0m \u001b[38;5;66;03m# For data is list-like, or Iterable (will consume into list)\u001b[39;00m\n\u001b[1;32m    837\u001b[0m \u001b[38;5;28;01melif\u001b[39;00m is_list_like(data):\n",
      "File \u001b[0;32m/opt/anaconda3/lib/python3.12/site-packages/pandas/core/internals/construction.py:314\u001b[0m, in \u001b[0;36mndarray_to_mgr\u001b[0;34m(values, index, columns, dtype, copy, typ)\u001b[0m\n\u001b[1;32m    308\u001b[0m     _copy \u001b[38;5;241m=\u001b[39m (\n\u001b[1;32m    309\u001b[0m         copy_on_sanitize\n\u001b[1;32m    310\u001b[0m         \u001b[38;5;28;01mif\u001b[39;00m (dtype \u001b[38;5;129;01mis\u001b[39;00m \u001b[38;5;28;01mNone\u001b[39;00m \u001b[38;5;129;01mor\u001b[39;00m astype_is_view(values\u001b[38;5;241m.\u001b[39mdtype, dtype))\n\u001b[1;32m    311\u001b[0m         \u001b[38;5;28;01melse\u001b[39;00m \u001b[38;5;28;01mFalse\u001b[39;00m\n\u001b[1;32m    312\u001b[0m     )\n\u001b[1;32m    313\u001b[0m     values \u001b[38;5;241m=\u001b[39m np\u001b[38;5;241m.\u001b[39marray(values, copy\u001b[38;5;241m=\u001b[39m_copy)\n\u001b[0;32m--> 314\u001b[0m     values \u001b[38;5;241m=\u001b[39m _ensure_2d(values)\n\u001b[1;32m    316\u001b[0m \u001b[38;5;28;01melse\u001b[39;00m:\n\u001b[1;32m    317\u001b[0m     \u001b[38;5;66;03m# by definition an array here\u001b[39;00m\n\u001b[1;32m    318\u001b[0m     \u001b[38;5;66;03m# the dtypes will be coerced to a single dtype\u001b[39;00m\n\u001b[1;32m    319\u001b[0m     values \u001b[38;5;241m=\u001b[39m _prep_ndarraylike(values, copy\u001b[38;5;241m=\u001b[39mcopy_on_sanitize)\n",
      "File \u001b[0;32m/opt/anaconda3/lib/python3.12/site-packages/pandas/core/internals/construction.py:592\u001b[0m, in \u001b[0;36m_ensure_2d\u001b[0;34m(values)\u001b[0m\n\u001b[1;32m    590\u001b[0m     values \u001b[38;5;241m=\u001b[39m values\u001b[38;5;241m.\u001b[39mreshape((values\u001b[38;5;241m.\u001b[39mshape[\u001b[38;5;241m0\u001b[39m], \u001b[38;5;241m1\u001b[39m))\n\u001b[1;32m    591\u001b[0m \u001b[38;5;28;01melif\u001b[39;00m values\u001b[38;5;241m.\u001b[39mndim \u001b[38;5;241m!=\u001b[39m \u001b[38;5;241m2\u001b[39m:\n\u001b[0;32m--> 592\u001b[0m     \u001b[38;5;28;01mraise\u001b[39;00m \u001b[38;5;167;01mValueError\u001b[39;00m(\u001b[38;5;124mf\u001b[39m\u001b[38;5;124m\"\u001b[39m\u001b[38;5;124mMust pass 2-d input. shape=\u001b[39m\u001b[38;5;132;01m{\u001b[39;00mvalues\u001b[38;5;241m.\u001b[39mshape\u001b[38;5;132;01m}\u001b[39;00m\u001b[38;5;124m\"\u001b[39m)\n\u001b[1;32m    593\u001b[0m \u001b[38;5;28;01mreturn\u001b[39;00m values\n",
      "\u001b[0;31mValueError\u001b[0m: Must pass 2-d input. shape=(1, 3, 3)"
     ]
    }
   ],
   "source": [
    "numpy_array_to_dataframe = pd.DataFrame(l_o_l_to_nparray)"
   ]
  },
  {
   "cell_type": "code",
   "execution_count": null,
   "id": "b813f43d-509e-4995-90be-9a4a497764ff",
   "metadata": {},
   "outputs": [],
   "source": [
    "type(numpy_array_to_dataframe)"
   ]
  },
  {
   "cell_type": "code",
   "execution_count": 103,
   "id": "47f9e6e1-0313-4a38-9754-ff67f91818fa",
   "metadata": {},
   "outputs": [
    {
     "ename": "NameError",
     "evalue": "name 'numpy_array_to_dataframe' is not defined",
     "output_type": "error",
     "traceback": [
      "\u001b[0;31m---------------------------------------------------------------------------\u001b[0m",
      "\u001b[0;31mNameError\u001b[0m                                 Traceback (most recent call last)",
      "Cell \u001b[0;32mIn[103], line 1\u001b[0m\n\u001b[0;32m----> 1\u001b[0m numpy_array_to_dataframe\n",
      "\u001b[0;31mNameError\u001b[0m: name 'numpy_array_to_dataframe' is not defined"
     ]
    }
   ],
   "source": [
    "numpy_array_to_dataframe"
   ]
  },
  {
   "cell_type": "markdown",
   "id": "210bd714-a571-4c4f-af0e-2a2d80760f86",
   "metadata": {},
   "source": [
    "# Change dataframe to numpy array"
   ]
  },
  {
   "cell_type": "code",
   "execution_count": 93,
   "id": "b400fcfe-dcde-4b86-be67-3b68f970496a",
   "metadata": {},
   "outputs": [
    {
     "ename": "NameError",
     "evalue": "name 'numpy_array_to_dataframe' is not defined",
     "output_type": "error",
     "traceback": [
      "\u001b[0;31m---------------------------------------------------------------------------\u001b[0m",
      "\u001b[0;31mNameError\u001b[0m                                 Traceback (most recent call last)",
      "Cell \u001b[0;32mIn[93], line 1\u001b[0m\n\u001b[0;32m----> 1\u001b[0m back_to_numpy_array \u001b[38;5;241m=\u001b[39m numpy_array_to_dataframe\u001b[38;5;241m.\u001b[39mto_numpy()\n",
      "\u001b[0;31mNameError\u001b[0m: name 'numpy_array_to_dataframe' is not defined"
     ]
    }
   ],
   "source": [
    "back_to_numpy_array = numpy_array_to_dataframe.to_numpy()"
   ]
  },
  {
   "cell_type": "markdown",
   "id": "1b60530e-bafe-4a2f-b5b5-83d4ad55dc40",
   "metadata": {
    "jp-MarkdownHeadingCollapsed": true
   },
   "source": [
    "type(back_to_numpy_array)"
   ]
  },
  {
   "cell_type": "markdown",
   "id": "9befae2d-c291-4666-84a3-fc480965d7b5",
   "metadata": {},
   "source": [
    "back_to_numpy_array"
   ]
  }
 ],
 "metadata": {
  "kernelspec": {
   "display_name": "Python 3 (ipykernel)",
   "language": "python",
   "name": "python3"
  },
  "language_info": {
   "codemirror_mode": {
    "name": "ipython",
    "version": 3
   },
   "file_extension": ".py",
   "mimetype": "text/x-python",
   "name": "python",
   "nbconvert_exporter": "python",
   "pygments_lexer": "ipython3",
   "version": "3.12.4"
  }
 },
 "nbformat": 4,
 "nbformat_minor": 5
}
